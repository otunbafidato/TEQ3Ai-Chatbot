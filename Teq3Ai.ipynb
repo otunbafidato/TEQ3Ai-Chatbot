import os
from langchain.document_loaders import WebBaseLoader
from langchain.text_splitter import RecursiveCharacterTextSplitter
from langchain.embeddings import OpenAIEmbeddings
from langchain.vectorstores import FAISS
from langchain.memory import ConversationBufferMemory
from langchain.chat_models import ChatOpenAI
from langchain.chains import ConversationalRetrievalChain
from langchain.prompts import PromptTemplate

# Set OpenAI API key
import openai
import config
api_key = config.api_key
openai.api_key = api_key

# Also set as environment variable for LangChain
os.environ["OPENAI_API_KEY"] = api_key

# Step 1: Load and split web content from TEQ3.AI website
urls = [
    "https://www.teq3.ai/",
    "https://www.teq3.ai/about-us",
    "https://www.teq3.ai/courses",
    "https://www.teq3.ai/programs", 
    "https://www.teq3.ai/data-analytics",
    "https://www.teq3.ai/artificial-intelligence",
    "https://www.teq3.ai/contact",
    "https://www.teq3.ai/services"
]

# Load documents silently (no print statements)
all_documents = []

for url in urls:
    try:
        loader = WebBaseLoader(url)
        documents = loader.load()
        all_documents.extend(documents)
    except Exception as e:
        # Only print if there's an error
        print(f"Error loading {url}: {str(e)}")

documents = all_documents

# Split documents into chunks
text_splitter = RecursiveCharacterTextSplitter(chunk_size=1000, chunk_overlap=200)
texts = text_splitter.split_documents(documents)

# Step 2: Create embeddings and vector store
embeddings = OpenAIEmbeddings(openai_api_key=api_key)
vectorstore = FAISS.from_documents(texts, embeddings)

# Step 3: Initialize GPT-4.1 with optimized settings for chat
llm = ChatOpenAI(
    model_name="gpt-4-turbo-preview",  # Use "gpt-4o" for GPT-4.1 if available
    temperature=0.7,  # Slightly lower for more consistent responses
    max_tokens=600,  # Increased for more detailed responses
    openai_api_key=api_key
)

# Step 4: Set up conversational memory
memory = ConversationBufferMemory(
    memory_key="chat_history", 
    return_messages=True,
    output_key="answer"  # Important for ConversationalRetrievalChain
)

# Step 5: Create the enhanced CareerGPT prompt
custom_prompt = """You are **CareerGPT**, TEQ3's expert AI career advisor specializing in AI and tech industry careers. You help users plan, pivot, or level up their careers through personalized, strategic advice. Your tone is friendly, knowledgeable, supportive, and concise.

## Your Core Mission
Help users successfully transition into or advance within AI and tech careers by providing:
- Strategic career planning and path recommendations
- Skill gap analysis and learning roadmaps
- Job role guidance and market insights
- Portfolio, resume, and interview preparation
- Connections to TEQ3's programs and resources

## About TEQ3 (Your Knowledge Base)
You represent TEQ3, a premium tech training provider offering comprehensive programs across multiple career paths:

**AI & DATA ANALYTICS**
- AI Engineer - Build and deploy machine learning models and AI systems
- AI Product Manager - Lead AI product strategy and development
- AI GRC (Governance, Risk & Compliance) - Ensure ethical and compliant AI implementation
- Data Analytics - Extract insights, build dashboards, make data-driven decisions
- Data Science - Advanced statistical analysis, predictive modeling, and ML

**CLOUD COMPUTING**
- Azure - Microsoft cloud platform administration and solutions
- AWS - Amazon Web Services infrastructure and development
- Google Cloud (GCP) - Google cloud architecture and services

**CYBER SECURITY**
- Cloud Security - Secure cloud infrastructure and applications
- Cyber Offense and Defense - Penetration testing and security operations
- Data Privacy - Privacy compliance and data protection strategies
- Gov., Risk & Compliance - Security governance and regulatory compliance
- System and Network Security - Infrastructure and network protection

**AGILE AND SCRUM**
- Agile Foundation - Core agile principles and methodologies
- Agile Leadership - Leading agile transformations
- Agile Project Management - Managing projects with agile frameworks
- Project Management - Traditional and hybrid project management
- SAFe - Scaled Agile Framework for enterprise
- Scrum - Scrum master and product owner training

**TEQ3's Key Differentiators:**
- 100% Job Guarantee - Our unique commitment to student career success
- Hands-on Learning - Real projects, not just theory
- Mentorship & Support - Dedicated career guidance throughout the journey
- Portfolio Building - Work on actual industry-relevant projects
- Multi-Domain Expertise - Comprehensive tech career pathways

Always reference these specific career paths and strengths when recommending TEQ3 programs. Do not promote courses from other providers.

## Information Gathering Strategy
Before providing career advice, understand the user's situation by asking about:
1. **Current background** - Education, work experience, or skills (if not mentioned)
2. **Target roles/goals** - What they're aiming for or curious about (if unclear)
3. **Timeline & availability** - How much time they can dedicate to learning (if not specified)

**IMPORTANT**: Only ask questions about information the user hasn't already provided. If they share their background upfront, don't ask again - proceed with advice.

## Response Structure
Every response should follow this format:

1. **Acknowledgment/Encouragement** (1 sentence)
   - Validate their question or situation
   
2. **Main Content** (2-5 key points)
   - Provide actionable insights, recommendations, or guidance
   - Use bullet points for clarity when listing multiple items
   - Be specific and practical, not generic
   - Reference TEQ3 programs when relevant

3. **Next Step/Follow-up** (1 question or call-to-action)
   - Guide them forward in their career journey

4. **Emoji Usage**
   - Use 1-3 emojis per response for warmth
   - Place strategically: 🚀 for goals, 💡 for insights, 🎯 for action items, 📊 for data roles, 🤖 for AI roles

## Handling Different Scenarios

### Career Advice (Your Primary Function)
Provide strategic, personalized guidance on:
- Role recommendations based on background and interests
- Skill requirements and learning paths
- Industry trends and job market insights
- Portfolio project ideas
- Resume and interview tips
- TEQ3 program recommendations with specific reasons why

### Technical Issues or Payment Problems
If user mentions: payment, billing, login, access, platform issues, bugs, or technical errors:
"I understand you're experiencing a technical issue. Our support team can help you right away:
📧 support@teq3.ai
💬 Live chat at teq3.ai

Is there anything else about your career goals I can help with while you're here?"

### Complaints or Concerns
If user expresses: dissatisfaction, complaints, frustration, or serious concerns:
"I'm sorry to hear about this concern. Your experience matters to us. For the best resolution, please reach out to:
📧 careers@teq3.ai (for program concerns)
📧 support@teq3.ai (for technical/billing issues)
📧 hello@teq3.ai (for general feedback)

I'm here if you'd like to discuss your career goals in the meantime."

### Request for Human Consultation
If user wants to: speak with someone, schedule a call, get personalized consultation:
"Excellent idea! Our career consultants are fantastic at providing personalized guidance. Here's how to connect:
🌐 teq3.ai/contact
📧 careers@teq3.ai
📋 Fill out the consultation form on our website

They can help with course selection, career planning, and leveraging our 100% Job Guarantee program."

### Off-Topic Questions
If user asks about: unrelated topics, non-career questions, general knowledge:
"I appreciate the question, but I specialize in AI and tech career guidance! 😊 

Is there anything about starting or advancing your career in AI or Data Analytics I can help you with?"

## Knowledge Boundaries
- **Stay current**: If asked about very recent trends, acknowledge your training date and offer to discuss established industry patterns
- **Be honest**: If you don't have specific information, say: "I don't have that specific detail, but I'd recommend checking with TEQ3 at careers@teq3.ai for the most current information."
- **No fabrication**: Never invent course details, pricing, timelines, or program specifics not provided in the context
- **Use context first**: Always prioritize information from the provided TEQ3 website context when answering

## Key Reminders
✅ Be encouraging - career transitions are challenging but achievable
✅ Be specific - generic advice isn't helpful
✅ Be honest - admit when you don't know something
✅ Be proactive - guide users toward their next action
✅ Be TEQ3-focused - highlight what makes TEQ3 unique
✅ Be adaptive - don't ask redundant questions
✅ Be concise - respect the user's time (aim for 4-6 sentences or equivalent bullets)

## Dynamic Inputs
Context from TEQ3 website: {context}
Previous conversation: {chat_history}
Current question: {question}

Your response:
"""

PROMPT = PromptTemplate(
    input_variables=["context", "chat_history", "question"],
    template=custom_prompt
)

chain = ConversationalRetrievalChain.from_llm(
    llm=llm,
    retriever=vectorstore.as_retriever(search_kwargs={"k": 5}),  # Retrieve more context
    memory=memory,
    return_source_documents=False,  # Set to True if you want to see sources
    combine_docs_chain_kwargs={"prompt": PROMPT},
    verbose=False  # Set to True for debugging
)


# Enhanced query analysis functions
def categorize_query(query):
    """Categorize user queries for smart routing"""
    query_lower = query.lower()
    
    # Technical support keywords
    technical_keywords = [
        "payment", "purchase", "buying", "can't buy", "payment failed", 
        "credit card", "billing", "refund", "login", "password", "access",
        "platform", "website", "technical", "error", "bug", "not working",
        "loading", "broken", "system", "account", "sign in", "log in", "can't access"
    ]
    
    # Complaint/concern keywords
    complaint_keywords = [
        "complaint", "complain", "issue", "problem", "concern", "worried",
        "dissatisfied", "disappointed", "frustrated", "unhappy", "feedback",
        "poor", "bad", "terrible", "awful", "wrong", "mistake", "unsatisfied"
    ]
    
    # Career guidance keywords
    career_keywords = [
        "which course", "what should i", "career change", "career transition",
        "job prospects", "salary", "right for me", "help me choose", "confused",
        "not sure", "advice", "recommend", "best option", "career path",
        "switch to tech", "enrollment decision", "course selection", "ai career",
        "data career", "job guarantee", "placement"
    ]
    
    # Consultant interest keywords
    consultant_keywords = [
        "yes", "sure", "interested", "consultant", "career advisor", 
        "speak to someone", "human", "person", "advisor", "guidance",
        "help me decide", "connect me", "arrange", "schedule", "talk to",
        "call me", "consultation"
    ]
    
    if any(keyword in query_lower for keyword in technical_keywords):
        return "technical"
    elif any(keyword in query_lower for keyword in complaint_keywords):
        return "complaint"
    elif any(keyword in query_lower for keyword in career_keywords):
        return "career_guidance"
    elif any(keyword in query_lower for keyword in consultant_keywords):
        return "consultant_interest"
    else:
        return "general"

def handle_technical_support():
    """Provide technical support contact information"""
    return """I understand you're experiencing a technical issue! 🛠️ Don't worry, our technical support team is here to help.

Our tech support can assist with:
   • Payment and billing problems 💳
   • Account access issues 🔐
   • Platform technical difficulties 💻
   • Purchase and enrollment problems 📝

Here's how to get help:
   📧 Email: support@teq3.ai
   📞 Phone: [Available on our website]
   💬 Live Chat: Check teq3.ai for instant support
   ⏰ Support Hours: We're here when you need us!

For the fastest response, I'd recommend checking our website for live chat options. Is there anything else about your career goals I can help you with while you're here? 😊"""

def handle_complaint():
    """Handle complaints with appropriate routing"""
    return """I'm really sorry to hear about your concern! 😔 Your feedback is super important to us, and I want to make sure you get the best possible help.

Let me connect you with the right team:

🎯 **For course or program concerns:**
   📧 careers@teq3.ai | 📞 [Career team number]
   They're amazing at addressing program questions and providing personalized guidance!

🔧 **For technical, billing, or platform issues:**
   📧 support@teq3.ai | 📞 [Tech support number]
   Our tech wizards can sort out any platform problems

📋 **For general feedback or escalated concerns:**
   📧 hello@teq3.ai | 📞 [Main contact number]
   Direct line to our customer care team

Would you like me to help you get connected with the most appropriate team? I'm here to make sure you get the support you deserve! 💪"""

def handle_career_consultation():
    """Provide career consultation information"""
    return """That's fantastic! 🌟 I'm excited to help you connect with one of our AI career consultants - they're absolute experts at guiding people into amazing tech careers!

Here's how to reach our career consultation team:
   🌐 Visit: teq3.ai/contact
   📧 Email: careers@teq3.ai  
   📞 Phone: [Career consultation number]
   📋 Or fill out our consultation request form on our website

Our consultants are incredible at providing:
   🎯 Personalized course selection based on your goals
   📈 Career transition planning and strategy
   💰 Job market insights and salary expectations  
   🏆 Portfolio development and project guidance
   🤝 Industry networking and job search support
   ✅ Leveraging our 100% Job Guarantee program

They offer consultations via phone, video call, or even in-person if you're local! 

What specific area are you most interested in - AI, Data Analytics, or still exploring your options? 🤔"""

def suggest_career_consultation():
    """Smart suggestion for career consultation"""
    suggestions = [
        "Would you like to chat with one of our AI career consultants? They're amazing at helping people find their perfect tech path! 🚀",
        "Our career consultants are like career GPS systems - they can guide you to exactly where you want to go in tech! Want me to connect you? 🗺️",
        "Since this is such an exciting career decision, would you benefit from a personalized chat with our career experts? They love helping people like you! 💡",
        "I can arrange a consultation with our career team - they're fantastic at turning career dreams into reality! Interested? ✨"
    ]
    import random
    return random.choice(suggestions)

def run_chatbot():
    print("\n" + "🤖" + "="*58 + "🤖")
    print("         Welcome to CareerGPT by TEQ3! 🚀")
    print("         Powered by GPT-4 for Expert Career Advice")
    print("🤖" + "="*58 + "🤖")
    print("Hey there! 👋 I'm CareerGPT, your AI career advisor!")
    print("I specialize in helping you launch or advance your career in:")
    print("   🤖 Artificial Intelligence | 📊 Data Analytics | 🎯 100% Job Guarantee")
    print("\n✨ How I can help you:")
    print("   💬 Career Planning & Strategy → Let's map your path!")
    print("   🎓 Course & Program Selection → Find your perfect fit")
    print("   📈 Skill Development Roadmaps → Know exactly what to learn")
    print("   💼 Portfolio & Interview Prep → Land that dream job")
    print("   🛠️ Technical Issues? → I'll connect you with our tech team")
    print("   📞 Want human guidance? → I'll set up a consultation")
    print("\nI'm here to give you personalized, actionable career advice! 😊")
    print("Share your background and goals, and let's build your tech career together!")
    print("\nType 'exit' to quit anytime")
    print("🤖" + "="*58 + "🤖" + "\n")
    
    # Initial greeting
    print("CareerGPT: Hi there! 👋 I'm excited to help you with your AI or Data Analytics career journey. What brings you here today? 😊\n")
    
    while True:
        customer_query = input("You: ")
        
        if customer_query.lower() in ["exit", "quit", "bye", "goodbye"]:
            print("\nCareerGPT: It's been wonderful helping you plan your career! 🌟")
            print("   Remember: Your tech career is closer than you think!")
            print("   Visit teq3.ai to get started with our 100% Job Guarantee! 🎯")
            print("   Take care and best of luck on your journey! 👋✨\n")
            break
        
        # Categorize the query for smart routing
        query_category = categorize_query(customer_query)
        
        # Handle different query types
        if query_category == "consultant_interest":
            print("CareerGPT:", handle_career_consultation())
            print()
            continue
            
        elif query_category == "technical":
            print("CareerGPT:", handle_technical_support())
            print()
            continue
            
        elif query_category == "complaint":
            print("CareerGPT:", handle_complaint())
            print()
            continue
        
        # For general and career guidance queries, use the LLM chain
        try:
            response = chain({"question": customer_query})["answer"]
            print("CareerGPT:", response)
            
            # Smart follow-up suggestions based on query category
            if query_category == "career_guidance":
                print("\n💡", suggest_career_consultation())
                print("   Just say 'yes' or 'consultant' if you'd like personalized guidance!")
                
        except Exception as e:
            print(f"CareerGPT: Oops! 😅 I encountered a little hiccup: {str(e)}")
            print("   No worries though! Let me connect you with our amazing support team:")
            print(handle_technical_support())
        
        print()

if __name__ == "__main__":
    run_chatbot()
